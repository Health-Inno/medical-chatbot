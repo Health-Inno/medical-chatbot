{
 "cells": [
  {
   "cell_type": "code",
   "execution_count": 178,
   "id": "61facded-1e3d-44a2-903b-1e6227023f7f",
   "metadata": {},
   "outputs": [],
   "source": [
    "os.environ[\"OPENAI_API_KEY\"]=\"<OPEN_AI_KEY>\""
   ]
  },
  {
   "cell_type": "code",
   "execution_count": 157,
   "id": "df6d0ab2-c009-46f9-b5f0-48421861d228",
   "metadata": {},
   "outputs": [],
   "source": [
    "import langchain\n",
    "from langchain.vectorstores import Chroma, FAISS\n",
    "from langchain.embeddings import OpenAIEmbeddings\n",
    "import os\n",
    "# import torch\n",
    "# open-source software library for machine learning\n",
    "from langchain import PromptTemplate\n",
    "from langchain.chat_models import ChatOpenAI\n",
    "from langchain.schema import HumanMessage, SystemMessage\n",
    "from langchain.chains.question_answering import load_qa_chain\n",
    "# Custom modules that handle the data and model.\n",
    "# from innovation_lab.generators import ILPipeline\n",
    "# Set the device to GPU if available\n",
    "# DEVICE = \"cuda:0\" if torch.cuda.is_available() else \"cpu\"\n",
    "# Ignore verbose warnings\n",
    "from langchain.retrievers import ContextualCompressionRetriever\n",
    "from langchain.retrievers.document_compressors import LLMChainExtractor\n",
    "import warnings\n",
    "warnings.filterwarnings(\"ignore\")\n",
    "llm = ChatOpenAI(\n",
    " temperature=.3,\n",
    " max_tokens=1024,\n",
    " streaming=False\n",
    ")\n",
    "from langchain.document_loaders import (CSVLoader,\n",
    "                                      EverNoteLoader,\n",
    "                                      PyMuPDFLoader,\n",
    "                                      TextLoader,\n",
    "                                      UnstructuredEmailLoader,\n",
    "                                      UnstructuredHTMLLoader,\n",
    "                                      UnstructuredMarkdownLoader,\n",
    "                                      UnstructuredEPubLoader,\n",
    "                                      UnstructuredODTLoader,\n",
    "                                      UnstructuredPowerPointLoader,\n",
    "                                      UnstructuredWordDocumentLoader,\n",
    "                                      UnstructuredExcelLoader,\n",
    "                                        UnstructuredImageLoader,\n",
    "                                    SRTLoader)\n",
    "from langchain.text_splitter import CharacterTextSplitter, RecursiveCharacterTextSplitter\n",
    "from langchain.document_loaders import PyMuPDFLoader, PyPDFLoader\n",
    "# Get your API keys from openai, you will need to create an account.\n",
    "# Here is the link to get the keys: https://platform.openai.com/account/billing/overview\n",
    "\n",
    "import fitz\n",
    "from PIL import Image\n",
    "from langchain.prompts import PromptTemplate\n",
    "from langchain.memory import ConversationBufferMemory\n",
    "from langchain.embeddings import OpenAIEmbeddings\n",
    "from langchain.vectorstores import Chroma\n",
    "from langchain.agents import initialize_agent\n",
    "from langchain.agents import AgentType\n",
    "# from dotenv import load_dotenv\n",
    "# load_dotenv()\n",
    "from langchain.chains import LLMChain, SimpleSequentialChain, SequentialChain"
   ]
  },
  {
   "cell_type": "code",
   "execution_count": 16,
   "id": "33ec4bb2-8185-4da5-88e8-754733eac047",
   "metadata": {
    "jupyter": {
     "source_hidden": true
    }
   },
   "outputs": [],
   "source": [
    "healthai=PromptTemplate(\n",
    "    input_variables=[\"Medical_history, inputs\"], template=\"\"\"\n",
    "You are a healthcare assistant chatbot that utilizes natural language processing to interact with user. The user \n",
    "has provided his/ her {Medical_history} which contains a summary of either past or current symptoms, medication and lifestyle factors. Provide\n",
    "recommendations such as diet and exercise plans, medication reminders, general wellness tips based on the user's {inputs} and established \n",
    "medical guidelines. Take note of the patient's allergy from the medical history. Ensure and maintain strict privacy and security measures to prtect users' sensitive \n",
    "information\"\"\")"
   ]
  },
  {
   "cell_type": "code",
   "execution_count": 141,
   "id": "f32adc3f-56c7-4da1-a505-821701049bc5",
   "metadata": {
    "jupyter": {
     "source_hidden": true
    }
   },
   "outputs": [],
   "source": []
  },
  {
   "cell_type": "code",
   "execution_count": 149,
   "id": "5a374983-c820-4466-9d62-cbd2b82f3432",
   "metadata": {},
   "outputs": [],
   "source": [
    "prompt=healthai.format(Medical_history=\"My name is Adah Augustine and I used to have diarrhea\")"
   ]
  },
  {
   "cell_type": "code",
   "execution_count": null,
   "id": "46364d7e-4b7a-4fde-9142-a547f3f4a2cc",
   "metadata": {
    "jupyter": {
     "source_hidden": true
    }
   },
   "outputs": [],
   "source": []
  },
  {
   "cell_type": "code",
   "execution_count": 80,
   "id": "1440929e-dcaf-4fd6-ad1f-bccf1f9b9dfc",
   "metadata": {
    "jupyter": {
     "source_hidden": true
    }
   },
   "outputs": [],
   "source": [
    "health_chain=LLMChain(llm=llm,prompt=healthai, verbose=False)"
   ]
  },
  {
   "cell_type": "code",
   "execution_count": 81,
   "id": "e446c5af-a06f-4b8d-9a84-d4084c11223e",
   "metadata": {
    "jupyter": {
     "source_hidden": true
    }
   },
   "outputs": [],
   "source": [
    "# healthai_2=PromptTemplate(\n",
    "#     input_variables=[\"Medical_history, inputs\"], template=\"\"\"You are a healthcare assistant chatbot that effortlessly input and manage users health records. The user \n",
    "# has provided his/ her {Medical_history} which contains a summary of either past or current symptoms, medication, allergy,and lifestyle factors. \n",
    "# Provide recommendations such as diet and exercise plans, medication reminders, general wellness tips based on the user's {inputs} and established \n",
    "# medical guidelines. Take note of the patient's allergy from the medical history. Ensure and maintain strict privacy and security measures to prtect users' sensitive \n",
    "# information. Prioritize user-friendly conversation. Explore innovative features such as proactive health monitoring, symptom analysis and real time assistance\n",
    "# to enhance the user experience, and promote long term health outcomes. With you own discretion, you can ask certain questions to better understand the patient's \n",
    "# symptoms and medical records\"\"\")\n",
    "# health_chain_2=LLMChain(llm=llm,prompt=healthai_2, verbose=False)"
   ]
  },
  {
   "cell_type": "code",
   "execution_count": 82,
   "id": "a1cd0baf-69e5-4618-bcad-4e2cfa2e5722",
   "metadata": {
    "jupyter": {
     "source_hidden": true
    }
   },
   "outputs": [
    {
     "data": {
      "text/plain": [
       "\"I'm sorry, I'm not sure I fully understand your medical history. Can you provide more details about your symptoms related to having a stone?\""
      ]
     },
     "execution_count": 82,
     "metadata": {},
     "output_type": "execute_result"
    }
   ],
   "source": [
    "health_chain.run(Medical_history=\"My name is Adah Augustine and I used to have diarrhea\", inputs=\"I have a stone\")"
   ]
  },
  {
   "cell_type": "code",
   "execution_count": 25,
   "id": "6e7f69ec-d97f-4cc2-aa4a-6c7c3d0cdda5",
   "metadata": {
    "collapsed": true,
    "jupyter": {
     "outputs_hidden": true,
     "source_hidden": true
    }
   },
   "outputs": [
    {
     "data": {
      "text/plain": [
       "\"Hello Adah Augustine, thank you for sharing your medical history with me. I'm sorry to hear that you recently had a mouth sore. \\n\\nThere are several possible causes for mouth sores, including:\\n\\n1. Trauma or injury to the mouth\\n2. Viral infections such as cold sores\\n3. Bacterial infections\\n4. Nutritional deficiencies\\n5. Allergic reactions to certain foods or medications\\n\\nGiven your medical history, it's important to consider your allergies when determining the cause of your mouth sore. If you suspect that your mouth sore may be due to an allergic reaction, it's best to avoid the trigger and consult with a healthcare provider for further evaluation.\\n\\nIn the meantime, here are some general tips to help alleviate mouth sores:\\n\\n1. Avoid spicy and acidic foods that may irritate the sore\\n2. Rinse your mouth with salt water or a mild antiseptic mouthwash\\n3. Apply a topical numbing agent or oral gel to help reduce pain\\n4. Stay hydrated and maintain good oral hygiene\\n\\nIf the mouth sore persists or worsens, it's important to seek medical attention for proper diagnosis and treatment.\\n\\nPlease let me know if you have any other questions or concerns. Your privacy and security are important to us, and all information shared with me is kept confidential.\""
      ]
     },
     "execution_count": 25,
     "metadata": {},
     "output_type": "execute_result"
    }
   ],
   "source": [
    "health_chain.run(Medical_history=\"My name is Adah Augustine and I used to have diarrhea\", inputs=\"I recently had a mouth sore, what could be the most possible cause\")"
   ]
  },
  {
   "cell_type": "code",
   "execution_count": 109,
   "id": "0cebc7f3-0d94-4063-b1ec-f7fbba5562e9",
   "metadata": {
    "jupyter": {
     "source_hidden": true
    }
   },
   "outputs": [],
   "source": [
    "healthai=PromptTemplate(\n",
    "    input_variables=[\"Medical_history\",\"chat_hist\"], template=\"\"\"\n",
    "You are a healthcare assistant chatbot that utilizes natural language processing to interact with user. The user \n",
    "has provided his/ her Medical history which contains a summary of either past or current symptoms, medication and lifestyle factors. \n",
    "This is the medical history: {Medical_history}\n",
    "Provide recommendations such as diet and exercise plans, medication reminders, general wellness tips based on the user's inputs and established \n",
    "medical guidelines.\n",
    "Take note of the patient's allergy from the medical history. Ensure and maintain strict privacy and security measures to prtect users' sensitive \n",
    "information. Take note of the chat history to provide an answer for the present patient input\n",
    "chat_history:{chat_hist}\n",
    "\n",
    "Ask questions only in queries that can not be fully undestood\"\"\")"
   ]
  },
  {
   "cell_type": "code",
   "execution_count": 110,
   "id": "abfd79b5-6912-4bfe-b4aa-bf4b965fa8a1",
   "metadata": {
    "jupyter": {
     "source_hidden": true
    }
   },
   "outputs": [],
   "source": [
    "chat_history=[]"
   ]
  },
  {
   "cell_type": "code",
   "execution_count": 111,
   "id": "bb70312a-8725-4f7f-9b1a-eac4109d4c0d",
   "metadata": {
    "jupyter": {
     "source_hidden": true
    }
   },
   "outputs": [],
   "source": [
    "prompt=healthai.format(Medical_history=\"My name is Adah Augustine and I used to have diarrhea\", chat_hist=chat_history)"
   ]
  },
  {
   "cell_type": "markdown",
   "id": "395902ca-efa8-4559-a22c-99d195344411",
   "metadata": {},
   "source": [
    "### Start"
   ]
  },
  {
   "cell_type": "code",
   "execution_count": 168,
   "id": "fb218879-436a-42cb-8b41-024992fe5637",
   "metadata": {},
   "outputs": [],
   "source": [
    "from langchain.prompts import (ChatPromptTemplate,HumanMessagePromptTemplate, MessagesPlaceholder)\n",
    "from langchain_core.messages import SystemMessage"
   ]
  },
  {
   "cell_type": "code",
   "execution_count": null,
   "id": "52915998-973d-4642-a498-4f4963e9e5b4",
   "metadata": {},
   "outputs": [],
   "source": []
  },
  {
   "cell_type": "code",
   "execution_count": 170,
   "id": "404ff26d-3438-4f4a-88e0-c9ff1c6b5a1d",
   "metadata": {},
   "outputs": [],
   "source": [
    "healthai=PromptTemplate(\n",
    "    input_variables=[\"Medical_history\"], template=\"\"\"\n",
    "You are a healthcare assistant chatbot that utilizes natural language processing to interact with user. The user \n",
    "has provided his/ her Medical history which contains a summary of either past or current symptoms, medication and lifestyle factors. \n",
    "This is the medical history: {Medical_history}\n",
    "Provide recommendations such as diet and exercise plans, medication reminders, general wellness tips based on the user's inputs and established \n",
    "medical guidelines.\n",
    "Take note of the patient's allergy from the medical history. Ensure and maintain strict privacy and security measures to prtect users' sensitive \n",
    "information\n",
    "Ask questions only in queries that can not be fully undestood\"\"\")\n",
    "med_history=\"My name is Adah Augustine and I have diabetes\"\n",
    "prompt=healthai.format(Medical_history=med_history)"
   ]
  },
  {
   "cell_type": "code",
   "execution_count": 171,
   "id": "c6fab5b9-f1dd-404d-9928-675e608065d0",
   "metadata": {},
   "outputs": [],
   "source": [
    "healthai_prompt = ChatPromptTemplate.from_messages(\n",
    "    [\n",
    "            SystemMessage(\n",
    "                content=prompt\n",
    "            ),\n",
    "        MessagesPlaceholder(variable_name=\"chat_history\"),\n",
    "            HumanMessagePromptTemplate.from_template(\"{human_input}\")\n",
    "            ]\n",
    ")\n",
    "memory = ConversationBufferMemory(memory_key=\"chat_history\", return_messages=True)"
   ]
  },
  {
   "cell_type": "code",
   "execution_count": 172,
   "id": "d6af0f56-e66a-4bec-8269-3ea0d6a876f6",
   "metadata": {},
   "outputs": [],
   "source": [
    "chat=LLMChain(llm=llm, prompt=healthai_prompt, memory=memory, verbose=False)"
   ]
  },
  {
   "cell_type": "code",
   "execution_count": 176,
   "id": "052cb16b-bc16-4325-93fd-4ccabdcb6340",
   "metadata": {},
   "outputs": [
    {
     "data": {
      "text/plain": [
       "\"I see that your medical history includes having diabetes. Based on this information, here are some general recommendations for maintaining good health:\\n\\n1. **Diet**: Follow a balanced diet that is low in sugar and refined carbohydrates. Focus on eating plenty of fruits, vegetables, whole grains, lean proteins, and healthy fats. Consider consulting with a dietitian for personalized meal planning.\\n\\n2. **Exercise**: Engage in regular physical activity such as walking, jogging, swimming, or cycling. Aim for at least 150 minutes of moderate-intensity exercise per week, as recommended by health guidelines.\\n\\n3. **Medication Adherence**: Take your diabetes medication as prescribed by your healthcare provider. Set up reminders to ensure you take your medication on time.\\n\\n4. **Blood Sugar Monitoring**: Monitor your blood sugar levels regularly as advised by your healthcare provider. Keep a record of your readings to track your progress and make any necessary adjustments to your treatment plan.\\n\\n5. **Lifestyle Choices**: Maintain a healthy weight, avoid smoking, limit alcohol consumption, and manage stress through relaxation techniques or activities you enjoy.\\n\\n6. **Regular Check-ups**: Schedule regular check-ups with your healthcare provider to monitor your diabetes management and overall health.\\n\\nRemember, these recommendations are general in nature. It's important to work closely with your healthcare provider to develop a personalized health plan that meets your specific needs and goals. If you have any specific concerns or questions, feel free to share them with me.\""
      ]
     },
     "execution_count": 176,
     "metadata": {},
     "output_type": "execute_result"
    }
   ],
   "source": [
    "chat.predict(human_input=\"Look through my medical records and give me recommendations on my health\")"
   ]
  },
  {
   "cell_type": "code",
   "execution_count": 175,
   "id": "a11d69e1-46ec-4fe2-bc9c-484c8d47f6b4",
   "metadata": {},
   "outputs": [],
   "source": [
    "# chat.predict(human_input=\"It is a kidney stone and it causes me slight pain in my abdomen\")"
   ]
  },
  {
   "cell_type": "code",
   "execution_count": 166,
   "id": "aabc6934-70d0-4e9f-8b65-d60de80d717b",
   "metadata": {},
   "outputs": [
    {
     "data": {
      "text/plain": [
       "\"It's important to consult with a healthcare provider to discuss treatment options for kidney stones. In the meantime, you can try to increase your water intake to help flush out the stone. Avoid foods high in oxalates, such as spinach, rhubarb, and almonds, which can contribute to stone formation. If the pain worsens or you experience any other concerning symptoms, please seek medical attention promptly.\""
      ]
     },
     "execution_count": 166,
     "metadata": {},
     "output_type": "execute_result"
    }
   ],
   "source": [
    "chat.predict(human_input=\"Not yet\")"
   ]
  },
  {
   "cell_type": "code",
   "execution_count": 115,
   "id": "56c20b3d-17e0-4ffc-90a8-5b2094aa5227",
   "metadata": {
    "jupyter": {
     "source_hidden": true
    }
   },
   "outputs": [],
   "source": [
    "def health_assistant(query):\n",
    "    messages = [\n",
    "            SystemMessage(\n",
    "                content=prompt\n",
    "            ),\n",
    "            HumanMessage(\n",
    "                content=query\n",
    "            ),\n",
    "            ]\n",
    "    answer=[]\n",
    "    for chunk in llm.stream(messages):\n",
    "        print(chunk.content, end=\"\", flush=True)\n",
    "    answer.append(chunk.content)\n",
    "    chat={}\n",
    "    chat[\"query\"]=query\n",
    "    chat[\"answer\"]=answer\n",
    "    chat_history.append(chat)"
   ]
  },
  {
   "cell_type": "code",
   "execution_count": 119,
   "id": "a8cf428c-fee0-4842-bf26-550d6bd61ce9",
   "metadata": {
    "jupyter": {
     "source_hidden": true
    }
   },
   "outputs": [
    {
     "name": "stdout",
     "output_type": "stream",
     "text": [
      "I see that you mentioned having had diarrhea in the past. It's important to stay hydrated and avoid foods that may trigger it. Have you consulted a healthcare provider about this issue?"
     ]
    }
   ],
   "source": [
    "health_assistant(\"No not yet\")"
   ]
  },
  {
   "cell_type": "code",
   "execution_count": 122,
   "id": "e7f8602e-9f3b-458b-8b93-2363bf45485d",
   "metadata": {},
   "outputs": [],
   "source": [
    "from langchain.chains import ConversationChain\n",
    "from langchain.memory import ConversationSummaryBufferMemory"
   ]
  },
  {
   "cell_type": "code",
   "execution_count": 123,
   "id": "968c3230-8479-4341-aca5-00a7a2d6ebde",
   "metadata": {},
   "outputs": [],
   "source": [
    "llm=ChatOpenAI()"
   ]
  },
  {
   "cell_type": "code",
   "execution_count": 125,
   "id": "e263f076-ccad-4af1-9efa-8c65e9657bc7",
   "metadata": {},
   "outputs": [
    {
     "data": {
      "text/plain": [
       "\"\\nYou are a healthcare assistant chatbot that utilizes natural language processing to interact with user. The user \\nhas provided his/ her Medical history which contains a summary of either past or current symptoms, medication and lifestyle factors. \\nThis is the medical history: My name is Adah Augustine and I used to have diarrhea\\nProvide recommendations such as diet and exercise plans, medication reminders, general wellness tips based on the user's inputs and established \\nmedical guidelines.\\nTake note of the patient's allergy from the medical history. Ensure and maintain strict privacy and security measures to prtect users' sensitive \\ninformation. Take note of the chat history to provide an answer for the present patient input\\nchat_history:[]\\n\\nAsk questions only in queries that can not be fully undestood\""
      ]
     },
     "execution_count": 125,
     "metadata": {},
     "output_type": "execute_result"
    }
   ],
   "source": [
    "prompt"
   ]
  },
  {
   "cell_type": "code",
   "execution_count": 127,
   "id": "6ad3a29b-384c-4bf7-a9bc-2d4198586ed3",
   "metadata": {},
   "outputs": [],
   "source": [
    "chain=ConversationChain(\n",
    "    llm=llm,\n",
    "    memory=ConversationSummaryBufferMemory(llm=ChatOpenAI(), max_token_limit=2048),verbose=False\n",
    ")"
   ]
  },
  {
   "cell_type": "code",
   "execution_count": null,
   "id": "7d0659d1-1c5a-48c7-8944-fd46ef88efca",
   "metadata": {},
   "outputs": [],
   "source": []
  },
  {
   "cell_type": "code",
   "execution_count": null,
   "id": "66e39fb2-ba2a-46eb-8b2b-3885473c2d3d",
   "metadata": {},
   "outputs": [],
   "source": []
  }
 ],
 "metadata": {
  "kernelspec": {
   "display_name": "Python 3 (ipykernel)",
   "language": "python",
   "name": "python3"
  },
  "language_info": {
   "codemirror_mode": {
    "name": "ipython",
    "version": 3
   },
   "file_extension": ".py",
   "mimetype": "text/x-python",
   "name": "python",
   "nbconvert_exporter": "python",
   "pygments_lexer": "ipython3",
   "version": "3.11.8"
  }
 },
 "nbformat": 4,
 "nbformat_minor": 5
}
