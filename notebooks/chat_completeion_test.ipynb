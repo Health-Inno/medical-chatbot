{
 "cells": [
  {
   "cell_type": "code",
   "execution_count": 1,
   "metadata": {},
   "outputs": [
    {
     "name": "stdout",
     "output_type": "stream",
     "text": [
      "llama_cpp_python              0.2.44\n"
     ]
    }
   ],
   "source": [
    "!pip list | grep llama"
   ]
  },
  {
   "cell_type": "code",
   "execution_count": 2,
   "metadata": {},
   "outputs": [
    {
     "name": "stderr",
     "output_type": "stream",
     "text": [
      "/Users/tanmayvakare/.pyenv/versions/3.10.6/lib/python3.10/site-packages/tqdm/auto.py:21: TqdmWarning: IProgress not found. Please update jupyter and ipywidgets. See https://ipywidgets.readthedocs.io/en/stable/user_install.html\n",
      "  from .autonotebook import tqdm as notebook_tqdm\n"
     ]
    }
   ],
   "source": [
    "from llama_cpp import Llama\n",
    "from huggingface_hub import hf_hub_download"
   ]
  },
  {
   "cell_type": "code",
   "execution_count": 3,
   "metadata": {},
   "outputs": [],
   "source": [
    "model_type = \"BioMistral/BioMistral-7B-GGUF\"\n",
    "model_file = \"ggml-model-Q5_K_M.gguf\"\n",
    "local_path = \"../models/\" + model_type"
   ]
  },
  {
   "cell_type": "code",
   "execution_count": 4,
   "metadata": {},
   "outputs": [],
   "source": [
    "local_llm = hf_hub_download(\n",
    "    repo_id = model_type,\n",
    "    filename = model_file,\n",
    "    local_dir=local_path\n",
    ")"
   ]
  },
  {
   "cell_type": "code",
   "execution_count": 9,
   "metadata": {},
   "outputs": [
    {
     "name": "stderr",
     "output_type": "stream",
     "text": [
      "llama_model_loader: loaded meta data with 21 key-value pairs and 291 tensors from ../models/BioMistral/BioMistral-7B-GGUF/ggml-model-Q5_K_M.gguf (version GGUF V3 (latest))\n",
      "llama_model_loader: Dumping metadata keys/values. Note: KV overrides do not apply in this output.\n",
      "llama_model_loader: - kv   0:                       general.architecture str              = llama\n",
      "llama_model_loader: - kv   1:                               general.name str              = models\n",
      "llama_model_loader: - kv   2:                       llama.context_length u32              = 32768\n",
      "llama_model_loader: - kv   3:                     llama.embedding_length u32              = 4096\n",
      "llama_model_loader: - kv   4:                          llama.block_count u32              = 32\n",
      "llama_model_loader: - kv   5:                  llama.feed_forward_length u32              = 14336\n",
      "llama_model_loader: - kv   6:                 llama.rope.dimension_count u32              = 128\n",
      "llama_model_loader: - kv   7:                 llama.attention.head_count u32              = 32\n",
      "llama_model_loader: - kv   8:              llama.attention.head_count_kv u32              = 8\n",
      "llama_model_loader: - kv   9:     llama.attention.layer_norm_rms_epsilon f32              = 0.000010\n",
      "llama_model_loader: - kv  10:                       llama.rope.freq_base f32              = 10000.000000\n",
      "llama_model_loader: - kv  11:                          general.file_type u32              = 17\n",
      "llama_model_loader: - kv  12:                       tokenizer.ggml.model str              = llama\n",
      "llama_model_loader: - kv  13:                      tokenizer.ggml.tokens arr[str,32000]   = [\"<unk>\", \"<s>\", \"</s>\", \"<0x00>\", \"<...\n",
      "llama_model_loader: - kv  14:                      tokenizer.ggml.scores arr[f32,32000]   = [0.000000, 0.000000, 0.000000, 0.0000...\n",
      "llama_model_loader: - kv  15:                  tokenizer.ggml.token_type arr[i32,32000]   = [2, 3, 3, 6, 6, 6, 6, 6, 6, 6, 6, 6, ...\n",
      "llama_model_loader: - kv  16:                tokenizer.ggml.bos_token_id u32              = 1\n",
      "llama_model_loader: - kv  17:                tokenizer.ggml.eos_token_id u32              = 2\n",
      "llama_model_loader: - kv  18:            tokenizer.ggml.unknown_token_id u32              = 0\n",
      "llama_model_loader: - kv  19:                    tokenizer.chat_template str              = {{ bos_token }}{% for message in mess...\n",
      "llama_model_loader: - kv  20:               general.quantization_version u32              = 2\n",
      "llama_model_loader: - type  f32:   65 tensors\n",
      "llama_model_loader: - type q5_K:  193 tensors\n",
      "llama_model_loader: - type q6_K:   33 tensors\n",
      "llm_load_vocab: special tokens definition check successful ( 259/32000 ).\n",
      "llm_load_print_meta: format           = GGUF V3 (latest)\n",
      "llm_load_print_meta: arch             = llama\n",
      "llm_load_print_meta: vocab type       = SPM\n",
      "llm_load_print_meta: n_vocab          = 32000\n",
      "llm_load_print_meta: n_merges         = 0\n",
      "llm_load_print_meta: n_ctx_train      = 32768\n",
      "llm_load_print_meta: n_embd           = 4096\n",
      "llm_load_print_meta: n_head           = 32\n",
      "llm_load_print_meta: n_head_kv        = 8\n",
      "llm_load_print_meta: n_layer          = 32\n",
      "llm_load_print_meta: n_rot            = 128\n",
      "llm_load_print_meta: n_embd_head_k    = 128\n",
      "llm_load_print_meta: n_embd_head_v    = 128\n",
      "llm_load_print_meta: n_gqa            = 4\n",
      "llm_load_print_meta: n_embd_k_gqa     = 1024\n",
      "llm_load_print_meta: n_embd_v_gqa     = 1024\n",
      "llm_load_print_meta: f_norm_eps       = 0.0e+00\n",
      "llm_load_print_meta: f_norm_rms_eps   = 1.0e-05\n",
      "llm_load_print_meta: f_clamp_kqv      = 0.0e+00\n",
      "llm_load_print_meta: f_max_alibi_bias = 0.0e+00\n",
      "llm_load_print_meta: n_ff             = 14336\n",
      "llm_load_print_meta: n_expert         = 0\n",
      "llm_load_print_meta: n_expert_used    = 0\n",
      "llm_load_print_meta: rope scaling     = linear\n",
      "llm_load_print_meta: freq_base_train  = 10000.0\n",
      "llm_load_print_meta: freq_scale_train = 1\n",
      "llm_load_print_meta: n_yarn_orig_ctx  = 32768\n",
      "llm_load_print_meta: rope_finetuned   = unknown\n",
      "llm_load_print_meta: model type       = 7B\n",
      "llm_load_print_meta: model ftype      = Q5_K - Medium\n",
      "llm_load_print_meta: model params     = 7.24 B\n",
      "llm_load_print_meta: model size       = 4.78 GiB (5.67 BPW) \n",
      "llm_load_print_meta: general.name     = models\n",
      "llm_load_print_meta: BOS token        = 1 '<s>'\n",
      "llm_load_print_meta: EOS token        = 2 '</s>'\n",
      "llm_load_print_meta: UNK token        = 0 '<unk>'\n",
      "llm_load_print_meta: LF token         = 13 '<0x0A>'\n",
      "llm_load_tensors: ggml ctx size =    0.11 MiB\n",
      "llm_load_tensors: offloading 0 repeating layers to GPU\n",
      "llm_load_tensors: offloaded 0/33 layers to GPU\n",
      "llm_load_tensors:        CPU buffer size =  4892.99 MiB\n",
      "..................................................................................................\n",
      "llama_new_context_with_model: n_ctx      = 512\n",
      "llama_new_context_with_model: freq_base  = 10000.0\n",
      "llama_new_context_with_model: freq_scale = 1\n",
      "llama_kv_cache_init:        CPU KV buffer size =    64.00 MiB\n",
      "llama_new_context_with_model: KV self size  =   64.00 MiB, K (f16):   32.00 MiB, V (f16):   32.00 MiB\n",
      "llama_new_context_with_model:        CPU input buffer size   =    10.01 MiB\n",
      "llama_new_context_with_model:        CPU compute buffer size =    72.00 MiB\n",
      "llama_new_context_with_model: graph splits (measure): 1\n",
      "AVX = 0 | AVX_VNNI = 0 | AVX2 = 0 | AVX512 = 0 | AVX512_VBMI = 0 | AVX512_VNNI = 0 | FMA = 0 | NEON = 1 | ARM_FMA = 1 | F16C = 0 | FP16_VA = 1 | WASM_SIMD = 0 | BLAS = 1 | SSE3 = 0 | SSSE3 = 0 | VSX = 0 | MATMUL_INT8 = 0 | \n",
      "Model metadata: {'general.quantization_version': '2', 'tokenizer.chat_template': \"{{ bos_token }}{% for message in messages %}{% if (message['role'] == 'user') != (loop.index0 % 2 == 0) %}{{ raise_exception('Conversation roles must alternate user/assistant/user/assistant/...') }}{% endif %}{% if message['role'] == 'user' %}{{ '[INST] ' + message['content'] + ' [/INST]' }}{% elif message['role'] == 'assistant' %}{{ message['content'] + eos_token + ' ' }}{% else %}{{ raise_exception('Only user and assistant roles are supported!') }}{% endif %}{% endfor %}\", 'tokenizer.ggml.unknown_token_id': '0', 'tokenizer.ggml.eos_token_id': '2', 'tokenizer.ggml.bos_token_id': '1', 'tokenizer.ggml.model': 'llama', 'llama.attention.head_count_kv': '8', 'llama.context_length': '32768', 'llama.attention.head_count': '32', 'llama.rope.freq_base': '10000.000000', 'llama.rope.dimension_count': '128', 'general.file_type': '17', 'llama.feed_forward_length': '14336', 'llama.embedding_length': '4096', 'llama.block_count': '32', 'general.architecture': 'llama', 'llama.attention.layer_norm_rms_epsilon': '0.000010', 'general.name': 'models'}\n"
     ]
    }
   ],
   "source": [
    "model = Llama(\n",
    "    model_path=local_llm,\n",
    "    chat_format=\"mistral-instruct\"\n",
    ")"
   ]
  },
  {
   "cell_type": "code",
   "execution_count": 10,
   "metadata": {},
   "outputs": [],
   "source": [
    "conversation = [\n",
    "    {\"role\": \"user\", \"content\": \"Hi\"},\n",
    "]"
   ]
  },
  {
   "cell_type": "code",
   "execution_count": 11,
   "metadata": {},
   "outputs": [],
   "source": [
    "outputs = model.create_chat_completion(\n",
    "    messages=conversation,\n",
    "    stream=True\n",
    ")"
   ]
  },
  {
   "cell_type": "code",
   "execution_count": 12,
   "metadata": {},
   "outputs": [
    {
     "name": "stdout",
     "output_type": "stream",
     "text": [
      "{'id': 'chatcmpl-6ffbda3a-63ff-4287-a31b-498f7978ff24', 'model': '../models/BioMistral/BioMistral-7B-GGUF/ggml-model-Q5_K_M.gguf', 'created': 1711056259, 'object': 'chat.completion.chunk', 'choices': [{'index': 0, 'delta': {'role': 'assistant'}, 'finish_reason': None}]}\n",
      "{'id': 'chatcmpl-6ffbda3a-63ff-4287-a31b-498f7978ff24', 'model': '../models/BioMistral/BioMistral-7B-GGUF/ggml-model-Q5_K_M.gguf', 'created': 1711056259, 'object': 'chat.completion.chunk', 'choices': [{'index': 0, 'delta': {'content': ' Hello'}, 'finish_reason': None}]}\n",
      "{'id': 'chatcmpl-6ffbda3a-63ff-4287-a31b-498f7978ff24', 'model': '../models/BioMistral/BioMistral-7B-GGUF/ggml-model-Q5_K_M.gguf', 'created': 1711056259, 'object': 'chat.completion.chunk', 'choices': [{'index': 0, 'delta': {'content': '!'}, 'finish_reason': None}]}\n",
      "{'id': 'chatcmpl-6ffbda3a-63ff-4287-a31b-498f7978ff24', 'model': '../models/BioMistral/BioMistral-7B-GGUF/ggml-model-Q5_K_M.gguf', 'created': 1711056259, 'object': 'chat.completion.chunk', 'choices': [{'index': 0, 'delta': {'content': ' How'}, 'finish_reason': None}]}\n",
      "{'id': 'chatcmpl-6ffbda3a-63ff-4287-a31b-498f7978ff24', 'model': '../models/BioMistral/BioMistral-7B-GGUF/ggml-model-Q5_K_M.gguf', 'created': 1711056259, 'object': 'chat.completion.chunk', 'choices': [{'index': 0, 'delta': {'content': ' can'}, 'finish_reason': None}]}\n",
      "{'id': 'chatcmpl-6ffbda3a-63ff-4287-a31b-498f7978ff24', 'model': '../models/BioMistral/BioMistral-7B-GGUF/ggml-model-Q5_K_M.gguf', 'created': 1711056259, 'object': 'chat.completion.chunk', 'choices': [{'index': 0, 'delta': {'content': ' I'}, 'finish_reason': None}]}\n",
      "{'id': 'chatcmpl-6ffbda3a-63ff-4287-a31b-498f7978ff24', 'model': '../models/BioMistral/BioMistral-7B-GGUF/ggml-model-Q5_K_M.gguf', 'created': 1711056259, 'object': 'chat.completion.chunk', 'choices': [{'index': 0, 'delta': {'content': ' help'}, 'finish_reason': None}]}\n",
      "{'id': 'chatcmpl-6ffbda3a-63ff-4287-a31b-498f7978ff24', 'model': '../models/BioMistral/BioMistral-7B-GGUF/ggml-model-Q5_K_M.gguf', 'created': 1711056259, 'object': 'chat.completion.chunk', 'choices': [{'index': 0, 'delta': {'content': ' you'}, 'finish_reason': None}]}\n",
      "{'id': 'chatcmpl-6ffbda3a-63ff-4287-a31b-498f7978ff24', 'model': '../models/BioMistral/BioMistral-7B-GGUF/ggml-model-Q5_K_M.gguf', 'created': 1711056259, 'object': 'chat.completion.chunk', 'choices': [{'index': 0, 'delta': {'content': ' today'}, 'finish_reason': None}]}\n",
      "{'id': 'chatcmpl-6ffbda3a-63ff-4287-a31b-498f7978ff24', 'model': '../models/BioMistral/BioMistral-7B-GGUF/ggml-model-Q5_K_M.gguf', 'created': 1711056259, 'object': 'chat.completion.chunk', 'choices': [{'index': 0, 'delta': {'content': '?'}, 'finish_reason': None}]}\n"
     ]
    },
    {
     "name": "stderr",
     "output_type": "stream",
     "text": [
      "\n",
      "llama_print_timings:        load time =    7732.57 ms\n",
      "llama_print_timings:      sample time =       1.61 ms /    10 runs   (    0.16 ms per token,  6191.95 tokens per second)\n",
      "llama_print_timings: prompt eval time =    7732.51 ms /    10 tokens (  773.25 ms per token,     1.29 tokens per second)\n",
      "llama_print_timings:        eval time =   69780.27 ms /     9 runs   ( 7753.36 ms per token,     0.13 tokens per second)\n",
      "llama_print_timings:       total time =   77580.31 ms /    19 tokens\n"
     ]
    },
    {
     "name": "stdout",
     "output_type": "stream",
     "text": [
      "{'id': 'chatcmpl-6ffbda3a-63ff-4287-a31b-498f7978ff24', 'model': '../models/BioMistral/BioMistral-7B-GGUF/ggml-model-Q5_K_M.gguf', 'created': 1711056259, 'object': 'chat.completion.chunk', 'choices': [{'index': 0, 'delta': {}, 'finish_reason': 'stop'}]}\n"
     ]
    }
   ],
   "source": [
    "for out in outputs:\n",
    "    print(out)\n",
    "\n",
    "# outputs"
   ]
  },
  {
   "cell_type": "code",
   "execution_count": null,
   "metadata": {},
   "outputs": [],
   "source": []
  }
 ],
 "metadata": {
  "kernelspec": {
   "display_name": "Python 3",
   "language": "python",
   "name": "python3"
  },
  "language_info": {
   "codemirror_mode": {
    "name": "ipython",
    "version": 3
   },
   "file_extension": ".py",
   "mimetype": "text/x-python",
   "name": "python",
   "nbconvert_exporter": "python",
   "pygments_lexer": "ipython3",
   "version": "3.10.6"
  }
 },
 "nbformat": 4,
 "nbformat_minor": 2
}
